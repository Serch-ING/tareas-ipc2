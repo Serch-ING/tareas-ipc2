{
  "nbformat": 4,
  "nbformat_minor": 0,
  "metadata": {
    "colab": {
      "name": "2. Litas Circulares.ipynb",
      "provenance": [],
      "collapsed_sections": [],
      "authorship_tag": "ABX9TyMKujz243UmaXxSdzf+FZnq",
      "include_colab_link": true
    },
    "kernelspec": {
      "name": "python3",
      "display_name": "Python 3"
    },
    "language_info": {
      "name": "python"
    }
  },
  "cells": [
    {
      "cell_type": "markdown",
      "metadata": {
        "id": "view-in-github",
        "colab_type": "text"
      },
      "source": [
        "<a href=\"https://colab.research.google.com/github/Serch-ING/tareas-ipc2-202000119/blob/main/Tarea2_Litas_Circulares.ipynb\" target=\"_parent\"><img src=\"https://colab.research.google.com/assets/colab-badge.svg\" alt=\"Open In Colab\"/></a>"
      ]
    },
    {
      "cell_type": "markdown",
      "metadata": {
        "id": "UPYL7NOK1vT_"
      },
      "source": [
        "# **Listas Circulares** "
      ]
    },
    {
      "cell_type": "code",
      "metadata": {
        "id": "zi9WhunH1017"
      },
      "source": [
        "class estudiante:\n",
        "  def __init__(self,carnet,nombre,edad,direccion,telefono,email,carrera,puesto):\n",
        "    self.carnet=carnet\n",
        "    self.nombre=nombre\n",
        "    self.edad=edad\n",
        "    self.direccion=direccion\n",
        "    self.telefono=telefono\n",
        "    self.email=email\n",
        "    self.carrera=carrera\n",
        "    self.puesto=puesto"
      ],
      "execution_count": 52,
      "outputs": []
    },
    {
      "cell_type": "markdown",
      "metadata": {
        "id": "0e8UaYej12nR"
      },
      "source": [
        "**Definicion de la clase Nodo**"
      ]
    },
    {
      "cell_type": "code",
      "metadata": {
        "id": "pLbrhpJ417vJ"
      },
      "source": [
        "class nodo:\n",
        "    def __init__(self,estudiante =None,siguiente=None):\n",
        "      self.estudiante=estudiante\n",
        "      self.siguiente=siguiente"
      ],
      "execution_count": 53,
      "outputs": []
    },
    {
      "cell_type": "markdown",
      "metadata": {
        "id": "hsnEbyZ01-Sd"
      },
      "source": [
        "**Definicion de la clase Lista Circular**"
      ]
    },
    {
      "cell_type": "code",
      "metadata": {
        "id": "9HrhwKNm2Bt8"
      },
      "source": [
        "class lista_circular:\n",
        "  def __init__(self):\n",
        "    self.primero = None\n",
        "\n",
        "  def insertar(self,estudiante):\n",
        "    if self.primero is None:\n",
        "      self.primero = nodo(estudiante=estudiante)\n",
        "      self.primero.siguiente = self.primero\n",
        "    else:\n",
        "      actual = nodo(estudiante=estudiante, siguiente=self.primero.siguiente)\n",
        "      self.primero.siguiente = actual\n",
        "\n",
        "  def recorrer(self):\n",
        "    if self.primero is None:\n",
        "      return\n",
        "    actual = self.primero \n",
        "    print(\"carnet:\",actual.estudiante.carnet,\"Nombre:\",actual.estudiante.nombre,\" email\",actual.estudiante.email, \" ->\")\n",
        "    while actual.siguiente != self.primero:\n",
        "      actual = actual.siguiente\n",
        "      print(\"carnet:\",actual.estudiante.carnet,\"Nombre:\",actual.estudiante.nombre,\" email\",actual.estudiante.email, \" ->\")\n",
        "    \n",
        "  def eliminar(self,carnet):\n",
        "    actual = self.primero\n",
        "    anterior = None\n",
        "    no_encontrado = False \n",
        "    while actual and actual.estudiante.carnet != carnet:\n",
        "      anterior = actual\n",
        "      actual = actual.siguiente\n",
        "      if actual == self.primero:\n",
        "        print(\"No se encontro dato a eliminar, carnet:\",carnet)\n",
        "        no_encontrado = True\n",
        "        break\n",
        "    \n",
        "    if not no_encontrado:\n",
        "      if anterior is not None:\n",
        "        anterior.siguiente = actual.siguiente\n",
        "      else:\n",
        "        while actual.siguiente != self.primero:\n",
        "          actual = actual.siguiente\n",
        "        actual.siguiente = self.primero.siguiente\n",
        "        self.primero = self.primero.siguiente\n",
        "\n",
        "  def buscar(self,carnet):\n",
        "    actual = self.primero\n",
        "    anterior = None\n",
        "    no_encontrado = False \n",
        "    while actual and actual.estudiante.carnet != carnet:\n",
        "      anterior = actual\n",
        "      actual = actual.siguiente\n",
        "      if actual == self.primero:\n",
        "        print(\"No se encontro el carnet buscado:\",carnet)\n",
        "        no_encontrado = True\n",
        "        break\n",
        "\n",
        "    if no_encontrado == False:     \n",
        "      print(\"carnet:\",actual.estudiante.carnet,\"Nombre:\",actual.estudiante.nombre,\" email\",actual.estudiante.email, \" ->\")"
      ],
      "execution_count": 54,
      "outputs": []
    },
    {
      "cell_type": "markdown",
      "metadata": {
        "id": "9JxXu_fV92ff"
      },
      "source": [
        "**Creacion de objeto Estudiante**"
      ]
    },
    {
      "cell_type": "code",
      "metadata": {
        "id": "s0ubE1pe98bo"
      },
      "source": [
        "e1 = estudiante(202000119,\"Gerson Ortiz\",19,\"Residenciales p...\",41350000,\"Gerson.ortiz@gmial.com\",\"Ingenieria en Sistemas\",\"Programador JR\")\n",
        "e2 = estudiante(201912323,\"Luis Mnedez\",21,\"Residenciales p...\",41350000,\"Luis.mendez@gmial.com\",\"Ingenieria en Sistemas\",\"Programador JR\")\n",
        "e3 = estudiante(201910000,\"Karen Hurtarte\",20,\"Residenciales p...\",41350000,\"Karen.hurtarte@gmial.com\",\"Ingenieria en Sistemas\",\"Programador JR\")\n"
      ],
      "execution_count": 55,
      "outputs": []
    },
    {
      "cell_type": "code",
      "metadata": {
        "id": "HacI6knltCgP"
      },
      "source": [
        ""
      ],
      "execution_count": 55,
      "outputs": []
    },
    {
      "cell_type": "markdown",
      "metadata": {
        "id": "6kt2h7L99-kE"
      },
      "source": [
        "**Insersion**\n"
      ]
    },
    {
      "cell_type": "code",
      "metadata": {
        "id": "Zfxbz0Lc-A4b"
      },
      "source": [
        "lista_c = lista_circular()\n",
        "lista_c.insertar(e1)\n",
        "lista_c.insertar(e2)\n",
        "lista_c.insertar(e3)\n"
      ],
      "execution_count": 56,
      "outputs": []
    },
    {
      "cell_type": "markdown",
      "metadata": {
        "id": "34MWDiPO-ZTL"
      },
      "source": [
        "**Recorrer**"
      ]
    },
    {
      "cell_type": "code",
      "metadata": {
        "colab": {
          "base_uri": "https://localhost:8080/"
        },
        "id": "03tqXAJH-bGg",
        "outputId": "8964b521-442b-4c16-8a4a-23d6e426bf32"
      },
      "source": [
        "lista_c.recorrer()"
      ],
      "execution_count": 57,
      "outputs": [
        {
          "output_type": "stream",
          "text": [
            "carnet: 202000119 Nombre: Gerson Ortiz  email Gerson.ortiz@gmial.com  ->\n",
            "carnet: 201910000 Nombre: Karen Hurtarte  email Karen.hurtarte@gmial.com  ->\n",
            "carnet: 201912323 Nombre: Luis Mnedez  email Luis.mendez@gmial.com  ->\n"
          ],
          "name": "stdout"
        }
      ]
    },
    {
      "cell_type": "markdown",
      "metadata": {
        "id": "jW8Lg7thr3Cu"
      },
      "source": [
        "**Eliminar un nodo de la lista**"
      ]
    },
    {
      "cell_type": "code",
      "metadata": {
        "colab": {
          "base_uri": "https://localhost:8080/"
        },
        "id": "u1W3yhW6r5v0",
        "outputId": "d354c3a6-07b9-47da-c160-8b5812d94ae1"
      },
      "source": [
        "lista_c.eliminar(202000119)\n",
        "lista_c.recorrer()"
      ],
      "execution_count": 60,
      "outputs": [
        {
          "output_type": "stream",
          "text": [
            "carnet: 201910000 Nombre: Karen Hurtarte  email Karen.hurtarte@gmial.com  ->\n",
            "carnet: 201912323 Nombre: Luis Mnedez  email Luis.mendez@gmial.com  ->\n"
          ],
          "name": "stdout"
        }
      ]
    },
    {
      "cell_type": "markdown",
      "metadata": {
        "id": "7oyTDL2odD8f"
      },
      "source": [
        "**Buscar un nodo de la lista**"
      ]
    },
    {
      "cell_type": "code",
      "metadata": {
        "colab": {
          "base_uri": "https://localhost:8080/"
        },
        "id": "4Ih63tFOdG1X",
        "outputId": "428729b4-7ddc-4fbe-c19d-4954aa9d7fd7"
      },
      "source": [
        "lista_c.buscar(201910000)"
      ],
      "execution_count": 62,
      "outputs": [
        {
          "output_type": "stream",
          "text": [
            "carnet: 201910000 Nombre: Karen Hurtarte  email Karen.hurtarte@gmial.com  ->\n"
          ],
          "name": "stdout"
        }
      ]
    }
  ]
}