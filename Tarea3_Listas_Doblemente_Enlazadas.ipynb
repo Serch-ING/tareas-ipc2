{
  "nbformat": 4,
  "nbformat_minor": 0,
  "metadata": {
    "colab": {
      "name": "3.Listas_Doblemente_Enlazadas.ipynb",
      "provenance": [],
      "collapsed_sections": [],
      "authorship_tag": "ABX9TyMJnntn83DrCMbkoyk77ppT",
      "include_colab_link": true
    },
    "kernelspec": {
      "name": "python3",
      "display_name": "Python 3"
    },
    "language_info": {
      "name": "python"
    }
  },
  "cells": [
    {
      "cell_type": "markdown",
      "metadata": {
        "id": "view-in-github",
        "colab_type": "text"
      },
      "source": [
        "<a href=\"https://colab.research.google.com/github/Serch-ING/tareas-ipc2-202000119/blob/main/Tarea3_Listas_Doblemente_Enlazadas.ipynb\" target=\"_parent\"><img src=\"https://colab.research.google.com/assets/colab-badge.svg\" alt=\"Open In Colab\"/></a>"
      ]
    },
    {
      "cell_type": "code",
      "metadata": {
        "id": "f5CNDzT7vKVi"
      },
      "source": [
        "class estudiante:\n",
        "  def __init__(self,carnet,nombre,edad,direccion,telefono,email,carrera,puesto):\n",
        "    self.carnet = carnet\n",
        "    self.nombre=nombre\n",
        "    self.edad=edad\n",
        "    self.direccion=direccion\n",
        "    self.telefono=telefono\n",
        "    self.email=email\n",
        "    self.carrera=carrera\n",
        "    self.puesto=puesto\n"
      ],
      "execution_count": 20,
      "outputs": []
    },
    {
      "cell_type": "markdown",
      "metadata": {
        "id": "t0PNcQcq0Mjz"
      },
      "source": [
        "**Definicion de clase Nodo**"
      ]
    },
    {
      "cell_type": "code",
      "metadata": {
        "id": "KWpEHZ7W0PPu"
      },
      "source": [
        "class nodo:\n",
        "  def __init__(self, estudiante=None, siguiente=None, anterior=None):\n",
        "    self.estudiante = estudiante\n",
        "    self.siguiente = siguiente\n",
        "    self.anterior = anterior"
      ],
      "execution_count": 21,
      "outputs": []
    },
    {
      "cell_type": "markdown",
      "metadata": {
        "id": "6TbREmq80dSH"
      },
      "source": [
        "**Definicion de la Clase Lista Doblemente Enlazada**"
      ]
    },
    {
      "cell_type": "code",
      "metadata": {
        "id": "u9pqTIZ70jqt"
      },
      "source": [
        "class lista_doble:\n",
        "  def __init__(self):\n",
        "    self.primero = None\n",
        "\n",
        "  def insertar(self, estudiante):\n",
        "    if self.primero is None:\n",
        "      self.primero = nodo(estudiante=estudiante)\n",
        "    else:\n",
        "      actual = nodo(estudiante=estudiante, siguiente=self.primero)\n",
        "      self.primero.anterior = actual\n",
        "      self.primero = actual\n",
        "  \n",
        "  def recorrer(self):\n",
        "    if self.primero is None:\n",
        "      return\n",
        "    actual = self.primero\n",
        "    print(\"carnet:\", actual.estudiante.carnet, \"nombre:\", actual.estudiante.nombre, \"email:\", actual.estudiante.email, \"->\")\n",
        "    while actual.siguiente:\n",
        "      actual = actual.siguiente\n",
        "      print(\"carnet:\", actual.estudiante.carnet, \"nombre:\", actual.estudiante.nombre, \"email:\", actual.estudiante.email, \"->\")\n",
        "  \n",
        "  def eliminar(self, carnet):\n",
        "    actual = self.primero\n",
        "    while actual:\n",
        "      if actual.estudiante.carnet == carnet:\n",
        "        if actual.anterior:\n",
        "          if actual.siguiente:\n",
        "            actual.anterior.siguiente = actual.siguiente\n",
        "            actual.siguiente.anterior = actual.anterior\n",
        "          else:\n",
        "            actual.anterior.siguiente = None\n",
        "            actual.anterior = None\n",
        "        else:\n",
        "          if actual.siguiente:\n",
        "            self.primero = actual.siguiente\n",
        "            actual.siguiente.anterior = None\n",
        "          else:\n",
        "            self.primero = None\n",
        "        return True\n",
        "      else:\n",
        "        actual = actual.siguiente\n",
        "    return False\n",
        "\n",
        "\n",
        "    \n",
        "  def buscar(self, carnet):\n",
        "    actual = self.primero\n",
        "\n",
        "    while actual and actual.estudiante.carnet != carnet:\n",
        "      actual = actual.siguiente\n",
        "    \n",
        "    if actual is None:\n",
        "      print('No se encontro el carnet: ',carnet )\n",
        "    elif actual:\n",
        "     print(\"carnet:\", actual.estudiante.carnet, \"nombre:\", actual.estudiante.nombre, \"email:\", actual.estudiante.email, \"->\")"
      ],
      "execution_count": 22,
      "outputs": []
    },
    {
      "cell_type": "markdown",
      "metadata": {
        "id": "F937G5bFi-m6"
      },
      "source": [
        "**Ingresando Estudiantes**"
      ]
    },
    {
      "cell_type": "code",
      "metadata": {
        "id": "I8usWcuQjDuy"
      },
      "source": [
        "e1 = estudiante(201915059, \"Gerson Ortiz\", 20, \"9 calle 10.02 zona 1\", 24400101, \"gerson.ortiz@gmail.com\", \"Ingeniería en Sistemas\", \"Programador Jr\")\n",
        "e2 = estudiante(201915860, \"Karen Hurtarte\", 21, \"7 calle 10.02 zona 1\", 24400101, \"karen.hurarte@gmail.com\", \"Ingeniería en Sistemas\", \"Programador Jr\")\n",
        "e3 = estudiante(201915861, \"Luis Mendez\", 21, \"8 calle 10.02 zona 1\", 24400101, \"luis.mendez@gmail.com\", \"Ingeniería en Sistemas\", \"Programador Jr\")"
      ],
      "execution_count": 23,
      "outputs": []
    },
    {
      "cell_type": "markdown",
      "metadata": {
        "id": "POgEKxqFjGkZ"
      },
      "source": [
        "**Inserccion de estudiantes**"
      ]
    },
    {
      "cell_type": "code",
      "metadata": {
        "id": "h0--NiR6jJSV"
      },
      "source": [
        "lista_d = lista_doble()\n",
        "lista_d.insertar(e1)\n",
        "lista_d.insertar(e2)\n",
        "lista_d.insertar(e3)"
      ],
      "execution_count": 24,
      "outputs": []
    },
    {
      "cell_type": "markdown",
      "metadata": {
        "id": "hBrbaRhOjKc6"
      },
      "source": [
        "**Recorrer lista**"
      ]
    },
    {
      "cell_type": "code",
      "metadata": {
        "colab": {
          "base_uri": "https://localhost:8080/"
        },
        "id": "yccp4UUqjMJP",
        "outputId": "06e1bbdb-2f6c-4516-8ec2-b776950c365b"
      },
      "source": [
        "lista_d.recorrer()"
      ],
      "execution_count": 25,
      "outputs": [
        {
          "output_type": "stream",
          "text": [
            "carnet: 201915861 nombre: Luis Mendez email: luis.mendez@gmail.com ->\n",
            "carnet: 201915860 nombre: Karen Hurtarte email: karen.hurarte@gmail.com ->\n",
            "carnet: 201915059 nombre: Gerson Ortiz email: gerson.ortiz@gmail.com ->\n"
          ],
          "name": "stdout"
        }
      ]
    },
    {
      "cell_type": "markdown",
      "metadata": {
        "id": "EURdCqhqjPaX"
      },
      "source": [
        "**Eliminar nodo**"
      ]
    },
    {
      "cell_type": "code",
      "metadata": {
        "colab": {
          "base_uri": "https://localhost:8080/"
        },
        "id": "oauJ7e8yjSJJ",
        "outputId": "1ca7df12-d973-4773-da6b-ac5d21315724"
      },
      "source": [
        "lista_d.eliminar(201915860)\n",
        "lista_d.recorrer()"
      ],
      "execution_count": 26,
      "outputs": [
        {
          "output_type": "stream",
          "text": [
            "carnet: 201915861 nombre: Luis Mendez email: luis.mendez@gmail.com ->\n",
            "carnet: 201915059 nombre: Gerson Ortiz email: gerson.ortiz@gmail.com ->\n"
          ],
          "name": "stdout"
        }
      ]
    },
    {
      "cell_type": "markdown",
      "metadata": {
        "id": "jUikSKzcjX90"
      },
      "source": [
        "**Busqueda**"
      ]
    },
    {
      "cell_type": "code",
      "metadata": {
        "colab": {
          "base_uri": "https://localhost:8080/"
        },
        "id": "h9bOV2kRjaRS",
        "outputId": "d798d028-3e77-4f47-dcca-d01be2a86483"
      },
      "source": [
        "lista_d.buscar(201915861)"
      ],
      "execution_count": 27,
      "outputs": [
        {
          "output_type": "stream",
          "text": [
            "carne: 201915861 nombre: Luis Mendez email: luis.mendez@gmail.com ->\n"
          ],
          "name": "stdout"
        }
      ]
    }
  ]
}