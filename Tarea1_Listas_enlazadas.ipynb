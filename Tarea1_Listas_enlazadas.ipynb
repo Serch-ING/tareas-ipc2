{
  "nbformat": 4,
  "nbformat_minor": 0,
  "metadata": {
    "colab": {
      "name": "1. Listas enlazadas.ipynb",
      "provenance": [],
      "collapsed_sections": [],
      "authorship_tag": "ABX9TyOUNKJIg2xrZsqggHz5nZt5",
      "include_colab_link": true
    },
    "kernelspec": {
      "name": "python3",
      "display_name": "Python 3"
    },
    "language_info": {
      "name": "python"
    }
  },
  "cells": [
    {
      "cell_type": "markdown",
      "metadata": {
        "id": "view-in-github",
        "colab_type": "text"
      },
      "source": [
        "<a href=\"https://colab.research.google.com/github/Serch-ING/tareas-ipc2-202000119/blob/main/Tarea1_Listas_enlazadas.ipynb\" target=\"_parent\"><img src=\"https://colab.research.google.com/assets/colab-badge.svg\" alt=\"Open In Colab\"/></a>"
      ]
    },
    {
      "cell_type": "markdown",
      "metadata": {
        "id": "-3qAspNWtdLn"
      },
      "source": [
        "# **Listas Enlazadas** "
      ]
    },
    {
      "cell_type": "code",
      "metadata": {
        "id": "Kz441X2ktz1n"
      },
      "source": [
        "class estudiante:\n",
        "  def __init__(self,carnet,nombre,edad,direccion,telefono,email,carrera,puesto):\n",
        "    self.carnet=carnet\n",
        "    self.nombre=nombre\n",
        "    self.edad=edad\n",
        "    self.direccion=direccion\n",
        "    self.telefono=telefono\n",
        "    self.email=email\n",
        "    self.carrera=carrera\n",
        "    self.puesto=puesto"
      ],
      "execution_count": null,
      "outputs": []
    },
    {
      "cell_type": "markdown",
      "metadata": {
        "id": "5M4Q4BsXzlur"
      },
      "source": [
        "**Definicion de la clase Nodo**"
      ]
    },
    {
      "cell_type": "code",
      "metadata": {
        "id": "Wa1t0_JqzrO6"
      },
      "source": [
        "class nodo:\n",
        "    def __init__(self,estudiante =None,siguiente=None):\n",
        "      self.estudiante=estudiante\n",
        "      self.siguiente=siguiente"
      ],
      "execution_count": null,
      "outputs": []
    },
    {
      "cell_type": "markdown",
      "metadata": {
        "id": "31r0ayIl26Gd"
      },
      "source": [
        "**Definicion de la clase Lista Enlazada**"
      ]
    },
    {
      "cell_type": "code",
      "metadata": {
        "id": "cy2Ok8SA3DAB"
      },
      "source": [
        "class lista_enlazada:\n",
        "  def __init__(self):\n",
        "    self.primero = None\n",
        "\n",
        "  def insertar(self, estudiante):\n",
        "    if self.primero is None:\n",
        "      self.primero = nodo(estudiante=estudiante)\n",
        "      return\n",
        "    actual = self.primero\n",
        "    while actual.siguiente:\n",
        "      actual = actual.siguiente\n",
        "    actual.siguiente = nodo(estudiante=estudiante)\n",
        "    \n",
        "  def recorrer(self):\n",
        "    actual= self.primero\n",
        "    while actual != None:\n",
        "      print(\"carnet: \", actual.estudiante.carnet,\"nombre: \", actual.estudiante.nombre, \"email: \", actual.estudiante.email, \"->\")\n",
        "      actual = actual.siguiente\n",
        "\n",
        "  def eliminar(self,carnet):\n",
        "    actual = self.primero\n",
        "    anterior = None\n",
        "\n",
        "    while actual and actual.estudiante.carnet != carnet:\n",
        "      anterior = actual\n",
        "      actual = actual.siguiente\n",
        "    \n",
        "    if anterior is None:\n",
        "      self.primero = actual.siguiente\n",
        "    elif actual:\n",
        "      anterior.siguiente = actual.siguiente\n",
        "      actual.siguiente = None\n",
        "\n",
        "  def buscar(self,carnet):\n",
        "    actual = self.primero\n",
        "    anterior = None\n",
        "    while actual and actual.estudiante.carnet != carnet:\n",
        "      anterior = actual\n",
        "      actual = actual.siguiente\n",
        "      if actual is None:\n",
        "        print(\"No se encontro la persona con el carnet:\", carnet)\n",
        "        break\n",
        "    if actual is not None:\n",
        "      if actual.estudiante.carnet == carnet:\n",
        "        print(\"carnet: \", actual.estudiante.carnet,\"nombre: \", actual.estudiante.nombre, \"email: \", actual.estudiante.email, \"->\")\n",
        "      "
      ],
      "execution_count": null,
      "outputs": []
    },
    {
      "cell_type": "markdown",
      "metadata": {
        "id": "M2IkHRA-8GhY"
      },
      "source": [
        "***Creacion de objetos Estudiante***"
      ]
    },
    {
      "cell_type": "code",
      "metadata": {
        "id": "J4_8WLvJsm7E"
      },
      "source": [
        "e1 = estudiante(202000119,\"Gerson Ortiz\",19,\"Residenciales p...\",41350000,\"Gerson.ortiz@gmial.com\",\"Ingenieria en Sistemas\",\"Programador JR\")\n",
        "e2 = estudiante(201912323,\"Karen Hurtarte\",20,\"Residenciales p...\",41350000,\"Karen.hurtarte@gmial.com\",\"Ingenieria en Sistemas\",\"Programador JR\")\n",
        "e3 = estudiante(201913232,\"Luis Mnedez\",21,\"Residenciales p...\",41350000,\"Luis.mendez@gmial.com\",\"Ingenieria en Sistemas\",\"Programador JR\")"
      ],
      "execution_count": null,
      "outputs": []
    },
    {
      "cell_type": "markdown",
      "metadata": {
        "id": "e4Wtw3ZutXj5"
      },
      "source": [
        "**Insercion**"
      ]
    },
    {
      "cell_type": "code",
      "metadata": {
        "id": "19jMjfCitdLc"
      },
      "source": [
        "lista_e = lista_enlazada()\n",
        "lista_e.insertar(e1)\n",
        "lista_e.insertar(e2)\n",
        "lista_e.insertar(e3)"
      ],
      "execution_count": null,
      "outputs": []
    },
    {
      "cell_type": "markdown",
      "metadata": {
        "id": "zTeCQs8wuMnL"
      },
      "source": [
        "**Recorrer Lista**"
      ]
    },
    {
      "cell_type": "code",
      "metadata": {
        "colab": {
          "base_uri": "https://localhost:8080/"
        },
        "id": "upDoN_TGuOhe",
        "outputId": "759b09c3-bf7c-471c-e4d2-92daa10afca5"
      },
      "source": [
        "lista_e.recorrer()"
      ],
      "execution_count": null,
      "outputs": [
        {
          "output_type": "stream",
          "text": [
            "carnet:  202000119 nombre:  Gerson Ortiz email:  Gerson.ortiz@gmial.com ->\n",
            "carnet:  201913232 nombre:  Luis Mnedez email:  Luis.mendez@gmial.com ->\n"
          ],
          "name": "stdout"
        }
      ]
    },
    {
      "cell_type": "markdown",
      "metadata": {
        "id": "X4uIgIJ5wbNL"
      },
      "source": [
        "**Eliminar un  nodo de lista**"
      ]
    },
    {
      "cell_type": "code",
      "metadata": {
        "colab": {
          "base_uri": "https://localhost:8080/"
        },
        "id": "cd0AZuA1wfCE",
        "outputId": "695c9d2c-a0b3-4b9b-eeca-3a117094baa7"
      },
      "source": [
        "lista_e.eliminar(201912323)\n",
        "lista_e.recorrer()"
      ],
      "execution_count": null,
      "outputs": [
        {
          "output_type": "stream",
          "text": [
            "carnet:  202000119 nombre:  Gerson Ortiz email:  Gerson.ortiz@gmial.com ->\n",
            "carnet:  201913232 nombre:  Luis Mnedez email:  Luis.mendez@gmial.com ->\n"
          ],
          "name": "stdout"
        }
      ]
    },
    {
      "cell_type": "markdown",
      "metadata": {
        "id": "7eP9rf6EMLYu"
      },
      "source": [
        "**Buscar un nodo de la lista**"
      ]
    },
    {
      "cell_type": "code",
      "metadata": {
        "colab": {
          "base_uri": "https://localhost:8080/"
        },
        "id": "Mgf2FSJ-MOAG",
        "outputId": "23414087-dc00-4963-81e9-946fe75ec4ee"
      },
      "source": [
        "lista_e.buscar(202000119)\n",
        "lista_e.buscar(201912323)"
      ],
      "execution_count": null,
      "outputs": [
        {
          "output_type": "stream",
          "text": [
            "carnet:  202000119 nombre:  Gerson Ortiz email:  Gerson.ortiz@gmial.com ->\n",
            "No se encontro la persona con el carnet: 201912323\n"
          ],
          "name": "stdout"
        }
      ]
    }
  ]
}